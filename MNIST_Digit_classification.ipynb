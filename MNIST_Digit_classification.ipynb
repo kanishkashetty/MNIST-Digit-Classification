{
  "nbformat": 4,
  "nbformat_minor": 0,
  "metadata": {
    "colab": {
      "name": "MNIST Digit classification.ipynb",
      "provenance": [],
      "collapsed_sections": [],
      "mount_file_id": "1Lez02mjhl1DF7eYS2xja0VI3Z3tR1d8h",
      "authorship_tag": "ABX9TyMX+q5msYPfVGUU7BJxJowc",
      "include_colab_link": true
    },
    "kernelspec": {
      "name": "python3",
      "display_name": "Python 3"
    },
    "language_info": {
      "name": "python"
    }
  },
  "cells": [
    {
      "cell_type": "markdown",
      "metadata": {
        "id": "view-in-github",
        "colab_type": "text"
      },
      "source": [
        "<a href=\"https://colab.research.google.com/github/kanishkashetty/MNIST-Digit-Classification/blob/main/MNIST_Digit_classification.ipynb\" target=\"_parent\"><img src=\"https://colab.research.google.com/assets/colab-badge.svg\" alt=\"Open In Colab\"/></a>"
      ]
    },
    {
      "cell_type": "code",
      "execution_count": 148,
      "metadata": {
        "id": "UaybFaDJE-3w"
      },
      "outputs": [],
      "source": [
        "import numpy as np \n",
        "import pandas as pd \n",
        "%matplotlib inline\n",
        "import matplotlib as mpl\n",
        "import matplotlib.pyplot as plt"
      ]
    },
    {
      "cell_type": "code",
      "source": [
        "import tensorflow as tf\n",
        "from tensorflow import keras"
      ],
      "metadata": {
        "id": "-zNB6rTlGhZA"
      },
      "execution_count": 149,
      "outputs": []
    },
    {
      "cell_type": "code",
      "source": [
        "digit_mnist= keras.datasets.mnist   "
      ],
      "metadata": {
        "id": "IieUNFe4KB-E"
      },
      "execution_count": 150,
      "outputs": []
    },
    {
      "cell_type": "code",
      "source": [
        "digit_mnist.load_data()"
      ],
      "metadata": {
        "colab": {
          "base_uri": "https://localhost:8080/"
        },
        "id": "YwNy6eJ0dy_i",
        "outputId": "4d20f15a-bf36-4509-c777-f0b1a6f24cb5"
      },
      "execution_count": 151,
      "outputs": [
        {
          "output_type": "execute_result",
          "data": {
            "text/plain": [
              "((array([[[0, 0, 0, ..., 0, 0, 0],\n",
              "          [0, 0, 0, ..., 0, 0, 0],\n",
              "          [0, 0, 0, ..., 0, 0, 0],\n",
              "          ...,\n",
              "          [0, 0, 0, ..., 0, 0, 0],\n",
              "          [0, 0, 0, ..., 0, 0, 0],\n",
              "          [0, 0, 0, ..., 0, 0, 0]],\n",
              "  \n",
              "         [[0, 0, 0, ..., 0, 0, 0],\n",
              "          [0, 0, 0, ..., 0, 0, 0],\n",
              "          [0, 0, 0, ..., 0, 0, 0],\n",
              "          ...,\n",
              "          [0, 0, 0, ..., 0, 0, 0],\n",
              "          [0, 0, 0, ..., 0, 0, 0],\n",
              "          [0, 0, 0, ..., 0, 0, 0]],\n",
              "  \n",
              "         [[0, 0, 0, ..., 0, 0, 0],\n",
              "          [0, 0, 0, ..., 0, 0, 0],\n",
              "          [0, 0, 0, ..., 0, 0, 0],\n",
              "          ...,\n",
              "          [0, 0, 0, ..., 0, 0, 0],\n",
              "          [0, 0, 0, ..., 0, 0, 0],\n",
              "          [0, 0, 0, ..., 0, 0, 0]],\n",
              "  \n",
              "         ...,\n",
              "  \n",
              "         [[0, 0, 0, ..., 0, 0, 0],\n",
              "          [0, 0, 0, ..., 0, 0, 0],\n",
              "          [0, 0, 0, ..., 0, 0, 0],\n",
              "          ...,\n",
              "          [0, 0, 0, ..., 0, 0, 0],\n",
              "          [0, 0, 0, ..., 0, 0, 0],\n",
              "          [0, 0, 0, ..., 0, 0, 0]],\n",
              "  \n",
              "         [[0, 0, 0, ..., 0, 0, 0],\n",
              "          [0, 0, 0, ..., 0, 0, 0],\n",
              "          [0, 0, 0, ..., 0, 0, 0],\n",
              "          ...,\n",
              "          [0, 0, 0, ..., 0, 0, 0],\n",
              "          [0, 0, 0, ..., 0, 0, 0],\n",
              "          [0, 0, 0, ..., 0, 0, 0]],\n",
              "  \n",
              "         [[0, 0, 0, ..., 0, 0, 0],\n",
              "          [0, 0, 0, ..., 0, 0, 0],\n",
              "          [0, 0, 0, ..., 0, 0, 0],\n",
              "          ...,\n",
              "          [0, 0, 0, ..., 0, 0, 0],\n",
              "          [0, 0, 0, ..., 0, 0, 0],\n",
              "          [0, 0, 0, ..., 0, 0, 0]]], dtype=uint8),\n",
              "  array([5, 0, 4, ..., 5, 6, 8], dtype=uint8)),\n",
              " (array([[[0, 0, 0, ..., 0, 0, 0],\n",
              "          [0, 0, 0, ..., 0, 0, 0],\n",
              "          [0, 0, 0, ..., 0, 0, 0],\n",
              "          ...,\n",
              "          [0, 0, 0, ..., 0, 0, 0],\n",
              "          [0, 0, 0, ..., 0, 0, 0],\n",
              "          [0, 0, 0, ..., 0, 0, 0]],\n",
              "  \n",
              "         [[0, 0, 0, ..., 0, 0, 0],\n",
              "          [0, 0, 0, ..., 0, 0, 0],\n",
              "          [0, 0, 0, ..., 0, 0, 0],\n",
              "          ...,\n",
              "          [0, 0, 0, ..., 0, 0, 0],\n",
              "          [0, 0, 0, ..., 0, 0, 0],\n",
              "          [0, 0, 0, ..., 0, 0, 0]],\n",
              "  \n",
              "         [[0, 0, 0, ..., 0, 0, 0],\n",
              "          [0, 0, 0, ..., 0, 0, 0],\n",
              "          [0, 0, 0, ..., 0, 0, 0],\n",
              "          ...,\n",
              "          [0, 0, 0, ..., 0, 0, 0],\n",
              "          [0, 0, 0, ..., 0, 0, 0],\n",
              "          [0, 0, 0, ..., 0, 0, 0]],\n",
              "  \n",
              "         ...,\n",
              "  \n",
              "         [[0, 0, 0, ..., 0, 0, 0],\n",
              "          [0, 0, 0, ..., 0, 0, 0],\n",
              "          [0, 0, 0, ..., 0, 0, 0],\n",
              "          ...,\n",
              "          [0, 0, 0, ..., 0, 0, 0],\n",
              "          [0, 0, 0, ..., 0, 0, 0],\n",
              "          [0, 0, 0, ..., 0, 0, 0]],\n",
              "  \n",
              "         [[0, 0, 0, ..., 0, 0, 0],\n",
              "          [0, 0, 0, ..., 0, 0, 0],\n",
              "          [0, 0, 0, ..., 0, 0, 0],\n",
              "          ...,\n",
              "          [0, 0, 0, ..., 0, 0, 0],\n",
              "          [0, 0, 0, ..., 0, 0, 0],\n",
              "          [0, 0, 0, ..., 0, 0, 0]],\n",
              "  \n",
              "         [[0, 0, 0, ..., 0, 0, 0],\n",
              "          [0, 0, 0, ..., 0, 0, 0],\n",
              "          [0, 0, 0, ..., 0, 0, 0],\n",
              "          ...,\n",
              "          [0, 0, 0, ..., 0, 0, 0],\n",
              "          [0, 0, 0, ..., 0, 0, 0],\n",
              "          [0, 0, 0, ..., 0, 0, 0]]], dtype=uint8),\n",
              "  array([7, 2, 1, ..., 4, 5, 6], dtype=uint8)))"
            ]
          },
          "metadata": {},
          "execution_count": 151
        }
      ]
    },
    {
      "cell_type": "code",
      "source": [
        "\n",
        "(x_train_full, y_train_full),(x_test, y_test)= digit_mnist.load_data()"
      ],
      "metadata": {
        "id": "XDnZp1GSGpRI"
      },
      "execution_count": 152,
      "outputs": []
    },
    {
      "cell_type": "code",
      "source": [
        "plt.imshow(x_train_full[22])"
      ],
      "metadata": {
        "colab": {
          "base_uri": "https://localhost:8080/",
          "height": 282
        },
        "id": "O1q3J1ULGhfn",
        "outputId": "ddfbf667-65dd-45d7-fbb5-1b80b7d7c334"
      },
      "execution_count": 153,
      "outputs": [
        {
          "output_type": "execute_result",
          "data": {
            "text/plain": [
              "<matplotlib.image.AxesImage at 0x7f1a803c2590>"
            ]
          },
          "metadata": {},
          "execution_count": 153
        },
        {
          "output_type": "display_data",
          "data": {
            "image/png": "[encoded data removed]",
            "text/plain": [
              "<Figure size 432x288 with 1 Axes>"
            ]
          },
          "metadata": {
            "needs_background": "light"
          }
        }
      ]
    },
    {
      "cell_type": "code",
      "source": [
        "y_train_full[22]"
      ],
      "metadata": {
        "colab": {
          "base_uri": "https://localhost:8080/"
        },
        "id": "kNCmYrk2Kryk",
        "outputId": "7982e794-4b7f-4d96-8d6e-9271e8af82db"
      },
      "execution_count": 154,
      "outputs": [
        {
          "output_type": "execute_result",
          "data": {
            "text/plain": [
              "9"
            ]
          },
          "metadata": {},
          "execution_count": 154
        }
      ]
    },
    {
      "cell_type": "code",
      "source": [
        "x_train_full[22]"
      ],
      "metadata": {
        "colab": {
          "base_uri": "https://localhost:8080/"
        },
        "id": "uSL4r2kFKsDZ",
        "outputId": "68469924-e7dd-480b-968d-8df004ebfd20"
      },
      "execution_count": 155,
      "outputs": [
        {
          "output_type": "execute_result",
          "data": {
            "text/plain": [
              "array([[  0,   0,   0,   0,   0,   0,   0,   0,   0,   0,   0,   0,   0,\n",
              "          0,   0,   0,   0,   0,   0,   0,   0,   0,   0,   0,   0,   0,\n",
              "          0,   0],\n",
              "       [  0,   0,   0,   0,   0,   0,   0,   0,   0,   0,   0,   0,   0,\n",
              "          0,   0,   0,   0,   0,   0,   0,   0,   0,   0,   0,   0,   0,\n",
              "          0,   0],\n",
              "       [  0,   0,   0,   0,   0,   0,   0,   0,   0,   0,   0,   0,   0,\n",
              "          0,   0,   0,   0,   0,   0,   0,   0,   0,   0,   0,   0,   0,\n",
              "          0,   0],\n",
              "       [  0,   0,   0,   0,   0,   0,   0,   0,   0,   0,   0,   0,   0,\n",
              "          0,   0,   0,   0,   0,   0,   0,   0,   0,   0,   0,   0,   0,\n",
              "          0,   0],\n",
              "       [  0,   0,   0,   0,   0,   0,   0,   0,   0,   0,   0,   0,   0,\n",
              "          0,   0,   0,   0,   0,   0,   0,   0,   0,   0,   0,   0,   0,\n",
              "          0,   0],\n",
              "       [  0,   0,   0,   0,   0,   0,   0,   0,   0,   0,   0,   0,   0,\n",
              "          0,   0,   0,   0,   0,   0,   0,   0,   0,   0,   0,   0,   0,\n",
              "          0,   0],\n",
              "       [  0,   0,   0,   0,   0,   0,   0,   0,   0,   0,   0,   0,   0,\n",
              "          0,   0,  31, 144, 250, 254, 166,   0,   0,   0,   0,   0,   0,\n",
              "          0,   0],\n",
              "       [  0,   0,   0,   0,   0,   0,   0,   0,   0,   0,   0,   0,   0,\n",
              "          0,  98, 241, 204,  97, 126, 253,  40,   0,   0,   0,   0,   0,\n",
              "          0,   0],\n",
              "       [  0,   0,   0,   0,   0,   0,   0,   0,   0,   0,   0,   0,   6,\n",
              "        121, 247, 133,  16,   0,  50, 253,  27,   0,   0,   0,   0,   0,\n",
              "          0,   0],\n",
              "       [  0,   0,   0,   0,   0,   0,   0,   0,   0,   0,   0,   0, 103,\n",
              "        253, 109,   0,   0,   0, 120, 231,   0,   0,   0,   0,   0,   0,\n",
              "          0,   0],\n",
              "       [  0,   0,   0,   0,   0,   0,   0,   0,   0,   0,   0,  18, 234,\n",
              "        169,   4,   0,   0,  31, 220, 231,   0,   0,   0,   0,   0,   0,\n",
              "          0,   0],\n",
              "       [  0,   0,   0,   0,   0,   0,   0,   0,   0,   0,   4, 215, 212,\n",
              "         18,   0,   0,   0, 195, 254, 139,   0,   0,   0,   0,   0,   0,\n",
              "          0,   0],\n",
              "       [  0,   0,   0,   0,   0,   0,   0,   0,   0,   0,  88, 253,  63,\n",
              "          0,   0,   0,  90, 251, 242,  23,   0,   0,   0,   0,   0,   0,\n",
              "          0,   0],\n",
              "       [  0,   0,   0,   0,   0,   0,   0,   0,   0,   0, 183, 214,   5,\n",
              "          0,   0,  24, 233, 253, 133,   0,   0,   0,   0,   0,   0,   0,\n",
              "          0,   0],\n",
              "       [  0,   0,   0,   0,   0,   0,   0,   0,   0,   0, 254, 124,   0,\n",
              "          0,  14, 197, 253, 149,  14,   0,   0,   0,   0,   0,   0,   0,\n",
              "          0,   0],\n",
              "       [  0,   0,   0,   0,   0,   0,   0,   0,   0,  67, 254,  45,   0,\n",
              "         71, 224, 254, 218,  15,   0,   0,   0,   0,   0,   0,   0,   0,\n",
              "          0,   0],\n",
              "       [  0,   0,   0,   0,   0,   0,   0,   0,   0,  45, 246, 214, 227,\n",
              "        248, 241, 255, 111,   0,   0,   0,   0,   0,   0,   0,   0,   0,\n",
              "          0,   0],\n",
              "       [  0,   0,   0,   0,   0,   0,   0,   0,   0,   0,  94, 193, 167,\n",
              "         78, 226, 189,   8,   0,   0,   0,   0,   0,   0,   0,   0,   0,\n",
              "          0,   0],\n",
              "       [  0,   0,   0,   0,   0,   0,   0,   0,   0,   0,   0,   0,   1,\n",
              "        145, 249,  53,   0,   0,   0,   0,   0,   0,   0,   0,   0,   0,\n",
              "          0,   0],\n",
              "       [  0,   0,   0,   0,   0,   0,   0,   0,   0,   0,   0,   0,  64,\n",
              "        253, 130,   0,   0,   0,   0,   0,   0,   0,   0,   0,   0,   0,\n",
              "          0,   0],\n",
              "       [  0,   0,   0,   0,   0,   0,   0,   0,   0,   0,   0,   0, 230,\n",
              "        227,  12,   0,   0,   0,   0,   0,   0,   0,   0,   0,   0,   0,\n",
              "          0,   0],\n",
              "       [  0,   0,   0,   0,   0,   0,   0,   0,   0,   0,   0,  52, 250,\n",
              "        104,   0,   0,   0,   0,   0,   0,   0,   0,   0,   0,   0,   0,\n",
              "          0,   0],\n",
              "       [  0,   0,   0,   0,   0,   0,   0,   0,   0,   0,   8, 206, 223,\n",
              "         11,   0,   0,   0,   0,   0,   0,   0,   0,   0,   0,   0,   0,\n",
              "          0,   0],\n",
              "       [  0,   0,   0,   0,   0,   0,   0,   0,   0,   0, 105, 253,  45,\n",
              "          0,   0,   0,   0,   0,   0,   0,   0,   0,   0,   0,   0,   0,\n",
              "          0,   0],\n",
              "       [  0,   0,   0,   0,   0,   0,   0,   0,   0,   0, 214, 207,   4,\n",
              "          0,   0,   0,   0,   0,   0,   0,   0,   0,   0,   0,   0,   0,\n",
              "          0,   0],\n",
              "       [  0,   0,   0,   0,   0,   0,   0,   0,   0,   0, 232, 106,   0,\n",
              "          0,   0,   0,   0,   0,   0,   0,   0,   0,   0,   0,   0,   0,\n",
              "          0,   0],\n",
              "       [  0,   0,   0,   0,   0,   0,   0,   0,   0,   0,   0,   0,   0,\n",
              "          0,   0,   0,   0,   0,   0,   0,   0,   0,   0,   0,   0,   0,\n",
              "          0,   0],\n",
              "       [  0,   0,   0,   0,   0,   0,   0,   0,   0,   0,   0,   0,   0,\n",
              "          0,   0,   0,   0,   0,   0,   0,   0,   0,   0,   0,   0,   0,\n",
              "          0,   0]], dtype=uint8)"
            ]
          },
          "metadata": {},
          "execution_count": 155
        }
      ]
    },
    {
      "cell_type": "code",
      "source": [
        "x_train_n=x_train_full/255.\n",
        "x_test_n= x_test/255. "
      ],
      "metadata": {
        "id": "7iq1LP8AKyOk"
      },
      "execution_count": 156,
      "outputs": []
    },
    {
      "cell_type": "code",
      "source": [
        "X_valid, X_train= x_train_n[:5000],x_train_n[5000:]\n",
        "y_valid, y_train= y_train_full[:5000],y_train_full[5000:]\n",
        "x_test=x_test_n"
      ],
      "metadata": {
        "id": "p5LOe6vPKyUg"
      },
      "execution_count": 157,
      "outputs": []
    },
    {
      "cell_type": "code",
      "source": [
        "X_valid"
      ],
      "metadata": {
        "colab": {
          "base_uri": "https://localhost:8080/"
        },
        "id": "qvPTlFY4KsJm",
        "outputId": "daf72cba-446d-4c60-d461-70180b1c6214"
      },
      "execution_count": 158,
      "outputs": [
        {
          "output_type": "execute_result",
          "data": {
            "text/plain": [
              "array([[[0., 0., 0., ..., 0., 0., 0.],\n",
              "        [0., 0., 0., ..., 0., 0., 0.],\n",
              "        [0., 0., 0., ..., 0., 0., 0.],\n",
              "        ...,\n",
              "        [0., 0., 0., ..., 0., 0., 0.],\n",
              "        [0., 0., 0., ..., 0., 0., 0.],\n",
              "        [0., 0., 0., ..., 0., 0., 0.]],\n",
              "\n",
              "       [[0., 0., 0., ..., 0., 0., 0.],\n",
              "        [0., 0., 0., ..., 0., 0., 0.],\n",
              "        [0., 0., 0., ..., 0., 0., 0.],\n",
              "        ...,\n",
              "        [0., 0., 0., ..., 0., 0., 0.],\n",
              "        [0., 0., 0., ..., 0., 0., 0.],\n",
              "        [0., 0., 0., ..., 0., 0., 0.]],\n",
              "\n",
              "       [[0., 0., 0., ..., 0., 0., 0.],\n",
              "        [0., 0., 0., ..., 0., 0., 0.],\n",
              "        [0., 0., 0., ..., 0., 0., 0.],\n",
              "        ...,\n",
              "        [0., 0., 0., ..., 0., 0., 0.],\n",
              "        [0., 0., 0., ..., 0., 0., 0.],\n",
              "        [0., 0., 0., ..., 0., 0., 0.]],\n",
              "\n",
              "       ...,\n",
              "\n",
              "       [[0., 0., 0., ..., 0., 0., 0.],\n",
              "        [0., 0., 0., ..., 0., 0., 0.],\n",
              "        [0., 0., 0., ..., 0., 0., 0.],\n",
              "        ...,\n",
              "        [0., 0., 0., ..., 0., 0., 0.],\n",
              "        [0., 0., 0., ..., 0., 0., 0.],\n",
              "        [0., 0., 0., ..., 0., 0., 0.]],\n",
              "\n",
              "       [[0., 0., 0., ..., 0., 0., 0.],\n",
              "        [0., 0., 0., ..., 0., 0., 0.],\n",
              "        [0., 0., 0., ..., 0., 0., 0.],\n",
              "        ...,\n",
              "        [0., 0., 0., ..., 0., 0., 0.],\n",
              "        [0., 0., 0., ..., 0., 0., 0.],\n",
              "        [0., 0., 0., ..., 0., 0., 0.]],\n",
              "\n",
              "       [[0., 0., 0., ..., 0., 0., 0.],\n",
              "        [0., 0., 0., ..., 0., 0., 0.],\n",
              "        [0., 0., 0., ..., 0., 0., 0.],\n",
              "        ...,\n",
              "        [0., 0., 0., ..., 0., 0., 0.],\n",
              "        [0., 0., 0., ..., 0., 0., 0.],\n",
              "        [0., 0., 0., ..., 0., 0., 0.]]])"
            ]
          },
          "metadata": {},
          "execution_count": 158
        }
      ]
    },
    {
      "cell_type": "code",
      "source": [
        "y_valid"
      ],
      "metadata": {
        "colab": {
          "base_uri": "https://localhost:8080/"
        },
        "id": "iwha5zf_Vgnv",
        "outputId": "1778c07f-3940-42e8-e3a1-8ddb77953eb9"
      },
      "execution_count": 159,
      "outputs": [
        {
          "output_type": "execute_result",
          "data": {
            "text/plain": [
              "array([5, 0, 4, ..., 2, 1, 2], dtype=uint8)"
            ]
          },
          "metadata": {},
          "execution_count": 159
        }
      ]
    },
    {
      "cell_type": "code",
      "source": [
        "np.random.seed(42)\n",
        "tf.random.set_seed(42)"
      ],
      "metadata": {
        "id": "2crywfngGZ3-"
      },
      "execution_count": 160,
      "outputs": []
    },
    {
      "cell_type": "code",
      "source": [
        "model=keras.models.Sequential()\n",
        "model.add(keras.layers.Flatten(input_shape=[28,28]))\n",
        "model.add(keras.layers.Dense(200,activation=\"relu\"))\n",
        "model.add(keras.layers.Dense(100,activation=\"relu\"))\n",
        "model.add(keras.layers.Dense(10,activation=\"softmax\"))"
      ],
      "metadata": {
        "id": "flSH4MX7DxFf"
      },
      "execution_count": 173,
      "outputs": []
    },
    {
      "cell_type": "code",
      "source": [
        "model.summary()"
      ],
      "metadata": {
        "colab": {
          "base_uri": "https://localhost:8080/"
        },
        "id": "u1a1r4XQeQwO",
        "outputId": "28cf22ad-915d-472c-c511-a31b561aeab7"
      },
      "execution_count": 174,
      "outputs": [
        {
          "output_type": "stream",
          "name": "stdout",
          "text": [
            "Model: \"sequential_11\"\n",
            "_________________________________________________________________\n",
            " Layer (type)                Output Shape              Param #   \n",
            "=================================================================\n",
            " flatten (Flatten)           (None, 784)               0         \n",
            "                                                                 \n",
            " dense_30 (Dense)            (None, 200)               157000    \n",
            "                                                                 \n",
            " dense_31 (Dense)            (None, 100)               20100     \n",
            "                                                                 \n",
            " dense_32 (Dense)            (None, 10)                1010      \n",
            "                                                                 \n",
            "=================================================================\n",
            "Total params: 178,110\n",
            "Trainable params: 178,110\n",
            "Non-trainable params: 0\n",
            "_________________________________________________________________\n"
          ]
        }
      ]
    },
    {
      "cell_type": "code",
      "source": [
        "import pydot\n",
        "keras.utils.plot_model(model)"
      ],
      "metadata": {
        "colab": {
          "base_uri": "https://localhost:8080/",
          "height": 466
        },
        "id": "1_RXJHZWecqA",
        "outputId": "f4d04a19-f8fb-4cb3-ffcc-b41857f87a1e"
      },
      "execution_count": 175,
      "outputs": [
        {
          "output_type": "execute_result",
          "data": {
            "image/png": "[encoded data removed]",
            "text/plain": [
              "<IPython.core.display.Image object>"
            ]
          },
          "metadata": {},
          "execution_count": 175
        }
      ]
    },
    {
      "cell_type": "code",
      "source": [
        "weights,bias=model.layers[1].get_weights()"
      ],
      "metadata": {
        "id": "VsLp8-jpenDW"
      },
      "execution_count": 178,
      "outputs": []
    },
    {
      "cell_type": "code",
      "source": [
        "weights"
      ],
      "metadata": {
        "colab": {
          "base_uri": "https://localhost:8080/"
        },
        "id": "k3HCH-iKfeJw",
        "outputId": "213c10a5-798a-438b-f106-de2c4ee2bfb9"
      },
      "execution_count": 179,
      "outputs": [
        {
          "output_type": "execute_result",
          "data": {
            "text/plain": [
              "array([[ 0.02570029, -0.00921319, -0.02297589, ...,  0.03759523,\n",
              "         0.01990343, -0.00419658],\n",
              "       [ 0.0493257 ,  0.07532704,  0.04591972, ...,  0.01272719,\n",
              "         0.07017377,  0.06893378],\n",
              "       [-0.00902112,  0.0490617 ,  0.01508749, ...,  0.00632862,\n",
              "        -0.02900814, -0.04371899],\n",
              "       ...,\n",
              "       [ 0.06044598,  0.02830634,  0.04788385, ..., -0.02156743,\n",
              "        -0.06206664, -0.06688078],\n",
              "       [ 0.03822813,  0.07278952,  0.02177001, ..., -0.04696669,\n",
              "        -0.04292265,  0.0316055 ],\n",
              "       [-0.01534326, -0.03178874, -0.04308994, ...,  0.00643031,\n",
              "         0.02572545, -0.03443564]], dtype=float32)"
            ]
          },
          "metadata": {},
          "execution_count": 179
        }
      ]
    },
    {
      "cell_type": "code",
      "source": [
        "weights.shape"
      ],
      "metadata": {
        "colab": {
          "base_uri": "https://localhost:8080/"
        },
        "id": "9kE7W6hhfU1D",
        "outputId": "5ce0a2d9-cf58-48b7-8730-9db0fc380b7f"
      },
      "execution_count": 180,
      "outputs": [
        {
          "output_type": "execute_result",
          "data": {
            "text/plain": [
              "(784, 200)"
            ]
          },
          "metadata": {},
          "execution_count": 180
        }
      ]
    },
    {
      "cell_type": "code",
      "source": [
        "bias"
      ],
      "metadata": {
        "colab": {
          "base_uri": "https://localhost:8080/"
        },
        "id": "Obok9vhHeqWs",
        "outputId": "b612b7c3-b5c1-4df0-8b72-571d68bb55c5"
      },
      "execution_count": 182,
      "outputs": [
        {
          "output_type": "execute_result",
          "data": {
            "text/plain": [
              "array([0., 0., 0., 0., 0., 0., 0., 0., 0., 0., 0., 0., 0., 0., 0., 0., 0.,\n",
              "       0., 0., 0., 0., 0., 0., 0., 0., 0., 0., 0., 0., 0., 0., 0., 0., 0.,\n",
              "       0., 0., 0., 0., 0., 0., 0., 0., 0., 0., 0., 0., 0., 0., 0., 0., 0.,\n",
              "       0., 0., 0., 0., 0., 0., 0., 0., 0., 0., 0., 0., 0., 0., 0., 0., 0.,\n",
              "       0., 0., 0., 0., 0., 0., 0., 0., 0., 0., 0., 0., 0., 0., 0., 0., 0.,\n",
              "       0., 0., 0., 0., 0., 0., 0., 0., 0., 0., 0., 0., 0., 0., 0., 0., 0.,\n",
              "       0., 0., 0., 0., 0., 0., 0., 0., 0., 0., 0., 0., 0., 0., 0., 0., 0.,\n",
              "       0., 0., 0., 0., 0., 0., 0., 0., 0., 0., 0., 0., 0., 0., 0., 0., 0.,\n",
              "       0., 0., 0., 0., 0., 0., 0., 0., 0., 0., 0., 0., 0., 0., 0., 0., 0.,\n",
              "       0., 0., 0., 0., 0., 0., 0., 0., 0., 0., 0., 0., 0., 0., 0., 0., 0.,\n",
              "       0., 0., 0., 0., 0., 0., 0., 0., 0., 0., 0., 0., 0., 0., 0., 0., 0.,\n",
              "       0., 0., 0., 0., 0., 0., 0., 0., 0., 0., 0., 0., 0.], dtype=float32)"
            ]
          },
          "metadata": {},
          "execution_count": 182
        }
      ]
    },
    {
      "cell_type": "code",
      "source": [
        "model.compile(loss=\"sparse_categorical_crossentropy\", \n",
        "              optimizer=\"sgd\",\n",
        "                metrics=['accuracy'])"
      ],
      "metadata": {
        "id": "kcBQngW0FS1H"
      },
      "execution_count": 183,
      "outputs": []
    },
    {
      "cell_type": "code",
      "source": [
        "model_history= model.fit(X_train, y_train, epochs=60, \n",
        "                         validation_data=(X_valid, y_valid))"
      ],
      "metadata": {
        "colab": {
          "base_uri": "https://localhost:8080/"
        },
        "id": "-DU2ThdAIzRP",
        "outputId": "42e26732-2914-4ea9-cd1c-1e6f58d57abc"
      },
      "execution_count": 184,
      "outputs": [
        {
          "output_type": "stream",
          "name": "stdout",
          "text": [
            "Epoch 1/60\n",
            "1719/1719 [==============================] - 6s 4ms/step - loss: 0.6549 - accuracy: 0.8280 - val_loss: 0.3183 - val_accuracy: 0.9132\n",
            "Epoch 2/60\n",
            "1719/1719 [==============================] - 6s 3ms/step - loss: 0.2986 - accuracy: 0.9149 - val_loss: 0.2532 - val_accuracy: 0.9306\n",
            "Epoch 3/60\n",
            "1719/1719 [==============================] - 5s 3ms/step - loss: 0.2471 - accuracy: 0.9292 - val_loss: 0.2152 - val_accuracy: 0.9392\n",
            "Epoch 4/60\n",
            "1719/1719 [==============================] - 6s 3ms/step - loss: 0.2129 - accuracy: 0.9391 - val_loss: 0.1915 - val_accuracy: 0.9450\n",
            "Epoch 5/60\n",
            "1719/1719 [==============================] - 6s 3ms/step - loss: 0.1874 - accuracy: 0.9463 - val_loss: 0.1726 - val_accuracy: 0.9508\n",
            "Epoch 6/60\n",
            "1719/1719 [==============================] - 6s 3ms/step - loss: 0.1671 - accuracy: 0.9524 - val_loss: 0.1597 - val_accuracy: 0.9548\n",
            "Epoch 7/60\n",
            "1719/1719 [==============================] - 6s 3ms/step - loss: 0.1502 - accuracy: 0.9574 - val_loss: 0.1456 - val_accuracy: 0.9586\n",
            "Epoch 8/60\n",
            "1719/1719 [==============================] - 6s 3ms/step - loss: 0.1363 - accuracy: 0.9614 - val_loss: 0.1380 - val_accuracy: 0.9618\n",
            "Epoch 9/60\n",
            "1719/1719 [==============================] - 6s 3ms/step - loss: 0.1245 - accuracy: 0.9649 - val_loss: 0.1272 - val_accuracy: 0.9652\n",
            "Epoch 10/60\n",
            "1719/1719 [==============================] - 6s 3ms/step - loss: 0.1147 - accuracy: 0.9673 - val_loss: 0.1180 - val_accuracy: 0.9690\n",
            "Epoch 11/60\n",
            "1719/1719 [==============================] - 5s 3ms/step - loss: 0.1055 - accuracy: 0.9702 - val_loss: 0.1139 - val_accuracy: 0.9708\n",
            "Epoch 12/60\n",
            "1719/1719 [==============================] - 5s 3ms/step - loss: 0.0978 - accuracy: 0.9722 - val_loss: 0.1092 - val_accuracy: 0.9690\n",
            "Epoch 13/60\n",
            "1719/1719 [==============================] - 5s 3ms/step - loss: 0.0910 - accuracy: 0.9745 - val_loss: 0.1036 - val_accuracy: 0.9738\n",
            "Epoch 14/60\n",
            "1719/1719 [==============================] - 6s 3ms/step - loss: 0.0845 - accuracy: 0.9765 - val_loss: 0.1012 - val_accuracy: 0.9714\n",
            "Epoch 15/60\n",
            "1719/1719 [==============================] - 5s 3ms/step - loss: 0.0792 - accuracy: 0.9781 - val_loss: 0.0945 - val_accuracy: 0.9748\n",
            "Epoch 16/60\n",
            "1719/1719 [==============================] - 6s 3ms/step - loss: 0.0741 - accuracy: 0.9796 - val_loss: 0.0917 - val_accuracy: 0.9758\n",
            "Epoch 17/60\n",
            "1719/1719 [==============================] - 6s 3ms/step - loss: 0.0695 - accuracy: 0.9811 - val_loss: 0.0906 - val_accuracy: 0.9758\n",
            "Epoch 18/60\n",
            "1719/1719 [==============================] - 6s 3ms/step - loss: 0.0656 - accuracy: 0.9825 - val_loss: 0.0874 - val_accuracy: 0.9768\n",
            "Epoch 19/60\n",
            "1719/1719 [==============================] - 6s 3ms/step - loss: 0.0616 - accuracy: 0.9834 - val_loss: 0.0860 - val_accuracy: 0.9756\n",
            "Epoch 20/60\n",
            "1719/1719 [==============================] - 6s 3ms/step - loss: 0.0581 - accuracy: 0.9842 - val_loss: 0.0868 - val_accuracy: 0.9756\n",
            "Epoch 21/60\n",
            "1719/1719 [==============================] - 6s 3ms/step - loss: 0.0550 - accuracy: 0.9851 - val_loss: 0.0792 - val_accuracy: 0.9792\n",
            "Epoch 22/60\n",
            "1719/1719 [==============================] - 6s 3ms/step - loss: 0.0518 - accuracy: 0.9861 - val_loss: 0.0811 - val_accuracy: 0.9776\n",
            "Epoch 23/60\n",
            "1719/1719 [==============================] - 6s 3ms/step - loss: 0.0492 - accuracy: 0.9867 - val_loss: 0.0828 - val_accuracy: 0.9756\n",
            "Epoch 24/60\n",
            "1719/1719 [==============================] - 5s 3ms/step - loss: 0.0462 - accuracy: 0.9877 - val_loss: 0.0787 - val_accuracy: 0.9774\n",
            "Epoch 25/60\n",
            "1719/1719 [==============================] - 5s 3ms/step - loss: 0.0440 - accuracy: 0.9885 - val_loss: 0.0780 - val_accuracy: 0.9774\n",
            "Epoch 26/60\n",
            "1719/1719 [==============================] - 5s 3ms/step - loss: 0.0415 - accuracy: 0.9893 - val_loss: 0.0746 - val_accuracy: 0.9786\n",
            "Epoch 27/60\n",
            "1719/1719 [==============================] - 5s 3ms/step - loss: 0.0395 - accuracy: 0.9899 - val_loss: 0.0728 - val_accuracy: 0.9794\n",
            "Epoch 28/60\n",
            "1719/1719 [==============================] - 5s 3ms/step - loss: 0.0375 - accuracy: 0.9899 - val_loss: 0.0741 - val_accuracy: 0.9800\n",
            "Epoch 29/60\n",
            "1719/1719 [==============================] - 5s 3ms/step - loss: 0.0353 - accuracy: 0.9909 - val_loss: 0.0730 - val_accuracy: 0.9786\n",
            "Epoch 30/60\n",
            "1719/1719 [==============================] - 5s 3ms/step - loss: 0.0336 - accuracy: 0.9914 - val_loss: 0.0732 - val_accuracy: 0.9798\n",
            "Epoch 31/60\n",
            "1719/1719 [==============================] - 6s 3ms/step - loss: 0.0317 - accuracy: 0.9923 - val_loss: 0.0735 - val_accuracy: 0.9794\n",
            "Epoch 32/60\n",
            "1719/1719 [==============================] - 6s 3ms/step - loss: 0.0302 - accuracy: 0.9928 - val_loss: 0.0716 - val_accuracy: 0.9798\n",
            "Epoch 33/60\n",
            "1719/1719 [==============================] - 5s 3ms/step - loss: 0.0288 - accuracy: 0.9932 - val_loss: 0.0695 - val_accuracy: 0.9808\n",
            "Epoch 34/60\n",
            "1719/1719 [==============================] - 5s 3ms/step - loss: 0.0273 - accuracy: 0.9936 - val_loss: 0.0733 - val_accuracy: 0.9796\n",
            "Epoch 35/60\n",
            "1719/1719 [==============================] - 6s 3ms/step - loss: 0.0258 - accuracy: 0.9944 - val_loss: 0.0702 - val_accuracy: 0.9802\n",
            "Epoch 36/60\n",
            "1719/1719 [==============================] - 5s 3ms/step - loss: 0.0243 - accuracy: 0.9947 - val_loss: 0.0743 - val_accuracy: 0.9788\n",
            "Epoch 37/60\n",
            "1719/1719 [==============================] - 5s 3ms/step - loss: 0.0232 - accuracy: 0.9956 - val_loss: 0.0688 - val_accuracy: 0.9818\n",
            "Epoch 38/60\n",
            "1719/1719 [==============================] - 6s 3ms/step - loss: 0.0222 - accuracy: 0.9953 - val_loss: 0.0709 - val_accuracy: 0.9816\n",
            "Epoch 39/60\n",
            "1719/1719 [==============================] - 6s 3ms/step - loss: 0.0211 - accuracy: 0.9957 - val_loss: 0.0704 - val_accuracy: 0.9800\n",
            "Epoch 40/60\n",
            "1719/1719 [==============================] - 6s 3ms/step - loss: 0.0199 - accuracy: 0.9962 - val_loss: 0.0713 - val_accuracy: 0.9800\n",
            "Epoch 41/60\n",
            "1719/1719 [==============================] - 6s 3ms/step - loss: 0.0192 - accuracy: 0.9963 - val_loss: 0.0687 - val_accuracy: 0.9810\n",
            "Epoch 42/60\n",
            "1719/1719 [==============================] - 6s 3ms/step - loss: 0.0181 - accuracy: 0.9970 - val_loss: 0.0704 - val_accuracy: 0.9812\n",
            "Epoch 43/60\n",
            "1719/1719 [==============================] - 5s 3ms/step - loss: 0.0173 - accuracy: 0.9970 - val_loss: 0.0724 - val_accuracy: 0.9796\n",
            "Epoch 44/60\n",
            "1719/1719 [==============================] - 6s 3ms/step - loss: 0.0165 - accuracy: 0.9974 - val_loss: 0.0690 - val_accuracy: 0.9816\n",
            "Epoch 45/60\n",
            "1719/1719 [==============================] - 5s 3ms/step - loss: 0.0156 - accuracy: 0.9977 - val_loss: 0.0707 - val_accuracy: 0.9808\n",
            "Epoch 46/60\n",
            "1719/1719 [==============================] - 5s 3ms/step - loss: 0.0149 - accuracy: 0.9978 - val_loss: 0.0707 - val_accuracy: 0.9798\n",
            "Epoch 47/60\n",
            "1719/1719 [==============================] - 5s 3ms/step - loss: 0.0143 - accuracy: 0.9979 - val_loss: 0.0703 - val_accuracy: 0.9816\n",
            "Epoch 48/60\n",
            "1719/1719 [==============================] - 5s 3ms/step - loss: 0.0135 - accuracy: 0.9981 - val_loss: 0.0722 - val_accuracy: 0.9798\n",
            "Epoch 49/60\n",
            "1719/1719 [==============================] - 5s 3ms/step - loss: 0.0128 - accuracy: 0.9983 - val_loss: 0.0697 - val_accuracy: 0.9816\n",
            "Epoch 50/60\n",
            "1719/1719 [==============================] - 6s 3ms/step - loss: 0.0124 - accuracy: 0.9985 - val_loss: 0.0718 - val_accuracy: 0.9808\n",
            "Epoch 51/60\n",
            "1719/1719 [==============================] - 5s 3ms/step - loss: 0.0118 - accuracy: 0.9987 - val_loss: 0.0705 - val_accuracy: 0.9808\n",
            "Epoch 52/60\n",
            "1719/1719 [==============================] - 6s 3ms/step - loss: 0.0113 - accuracy: 0.9986 - val_loss: 0.0708 - val_accuracy: 0.9814\n",
            "Epoch 53/60\n",
            "1719/1719 [==============================] - 6s 3ms/step - loss: 0.0108 - accuracy: 0.9990 - val_loss: 0.0706 - val_accuracy: 0.9804\n",
            "Epoch 54/60\n",
            "1719/1719 [==============================] - 6s 3ms/step - loss: 0.0104 - accuracy: 0.9989 - val_loss: 0.0717 - val_accuracy: 0.9808\n",
            "Epoch 55/60\n",
            "1719/1719 [==============================] - 5s 3ms/step - loss: 0.0100 - accuracy: 0.9990 - val_loss: 0.0712 - val_accuracy: 0.9808\n",
            "Epoch 56/60\n",
            "1719/1719 [==============================] - 5s 3ms/step - loss: 0.0094 - accuracy: 0.9992 - val_loss: 0.0740 - val_accuracy: 0.9792\n",
            "Epoch 57/60\n",
            "1719/1719 [==============================] - 5s 3ms/step - loss: 0.0091 - accuracy: 0.9992 - val_loss: 0.0714 - val_accuracy: 0.9818\n",
            "Epoch 58/60\n",
            "1719/1719 [==============================] - 5s 3ms/step - loss: 0.0087 - accuracy: 0.9992 - val_loss: 0.0746 - val_accuracy: 0.9802\n",
            "Epoch 59/60\n",
            "1719/1719 [==============================] - 6s 3ms/step - loss: 0.0084 - accuracy: 0.9993 - val_loss: 0.0720 - val_accuracy: 0.9814\n",
            "Epoch 60/60\n",
            "1719/1719 [==============================] - 6s 3ms/step - loss: 0.0080 - accuracy: 0.9994 - val_loss: 0.0736 - val_accuracy: 0.9808\n"
          ]
        }
      ]
    },
    {
      "cell_type": "code",
      "source": [
        "model_history.params"
      ],
      "metadata": {
        "colab": {
          "base_uri": "https://localhost:8080/"
        },
        "id": "x-w3ggU-Xs4b",
        "outputId": "5122ec59-4f7d-47da-9426-03d30501351d"
      },
      "execution_count": 185,
      "outputs": [
        {
          "output_type": "execute_result",
          "data": {
            "text/plain": [
              "{'epochs': 60, 'steps': 1719, 'verbose': 1}"
            ]
          },
          "metadata": {},
          "execution_count": 185
        }
      ]
    },
    {
      "cell_type": "code",
      "source": [
        "model_history. history"
      ],
      "metadata": {
        "colab": {
          "base_uri": "https://localhost:8080/"
        },
        "id": "yfK3hsihUzQk",
        "outputId": "3e854b0a-4813-4b25-b789-3e21c689551e"
      },
      "execution_count": 187,
      "outputs": [
        {
          "output_type": "execute_result",
          "data": {
            "text/plain": [
              "{'accuracy': [0.8279818296432495,\n",
              "  0.9149272441864014,\n",
              "  0.9292181730270386,\n",
              "  0.939054548740387,\n",
              "  0.946327269077301,\n",
              "  0.9524182081222534,\n",
              "  0.9574363827705383,\n",
              "  0.9613999724388123,\n",
              "  0.9648545384407043,\n",
              "  0.9672909379005432,\n",
              "  0.9702363610267639,\n",
              "  0.9721817970275879,\n",
              "  0.9745091199874878,\n",
              "  0.9765454530715942,\n",
              "  0.9780727028846741,\n",
              "  0.9796000123023987,\n",
              "  0.9810909032821655,\n",
              "  0.9824908971786499,\n",
              "  0.9833818078041077,\n",
              "  0.984218180179596,\n",
              "  0.9850909113883972,\n",
              "  0.986054539680481,\n",
              "  0.9866726994514465,\n",
              "  0.987745463848114,\n",
              "  0.988490879535675,\n",
              "  0.9892908930778503,\n",
              "  0.9898545742034912,\n",
              "  0.9898545742034912,\n",
              "  0.9908545613288879,\n",
              "  0.9914363622665405,\n",
              "  0.9922909140586853,\n",
              "  0.9927999973297119,\n",
              "  0.9931818246841431,\n",
              "  0.9935636520385742,\n",
              "  0.994418203830719,\n",
              "  0.9946727156639099,\n",
              "  0.9955818057060242,\n",
              "  0.9953091144561768,\n",
              "  0.9957273006439209,\n",
              "  0.9961636066436768,\n",
              "  0.99632728099823,\n",
              "  0.996999979019165,\n",
              "  0.996963620185852,\n",
              "  0.9973636269569397,\n",
              "  0.9976545572280884,\n",
              "  0.9978363513946533,\n",
              "  0.9979454278945923,\n",
              "  0.9980727434158325,\n",
              "  0.9983090758323669,\n",
              "  0.9984909296035767,\n",
              "  0.9986909031867981,\n",
              "  0.9986181855201721,\n",
              "  0.9989818334579468,\n",
              "  0.9988909363746643,\n",
              "  0.9990000128746033,\n",
              "  0.9991999864578247,\n",
              "  0.9992181658744812,\n",
              "  0.9991818070411682,\n",
              "  0.9993273019790649,\n",
              "  0.9993636608123779],\n",
              " 'loss': [0.654914915561676,\n",
              "  0.2985514998435974,\n",
              "  0.24708227813243866,\n",
              "  0.21289536356925964,\n",
              "  0.1874120980501175,\n",
              "  0.1670931875705719,\n",
              "  0.15017877519130707,\n",
              "  0.13629615306854248,\n",
              "  0.12447487562894821,\n",
              "  0.11466328054666519,\n",
              "  0.10549061000347137,\n",
              "  0.09784499555826187,\n",
              "  0.09096639603376389,\n",
              "  0.08454769104719162,\n",
              "  0.07919162511825562,\n",
              "  0.07412755489349365,\n",
              "  0.0695444718003273,\n",
              "  0.06558395177125931,\n",
              "  0.06156197935342789,\n",
              "  0.058073535561561584,\n",
              "  0.05501985177397728,\n",
              "  0.05183600261807442,\n",
              "  0.049195822328329086,\n",
              "  0.04616745561361313,\n",
              "  0.04398501291871071,\n",
              "  0.04145526885986328,\n",
              "  0.039527084678411484,\n",
              "  0.0375249944627285,\n",
              "  0.035335276275873184,\n",
              "  0.03360947594046593,\n",
              "  0.03172222897410393,\n",
              "  0.030155522748827934,\n",
              "  0.028751494362950325,\n",
              "  0.02729957550764084,\n",
              "  0.025791551917791367,\n",
              "  0.024337243288755417,\n",
              "  0.02316693589091301,\n",
              "  0.022199207916855812,\n",
              "  0.021124280989170074,\n",
              "  0.019947342574596405,\n",
              "  0.019172033295035362,\n",
              "  0.018088236451148987,\n",
              "  0.017312929034233093,\n",
              "  0.01648242212831974,\n",
              "  0.015553011558949947,\n",
              "  0.01489847432821989,\n",
              "  0.014260412193834782,\n",
              "  0.0135054811835289,\n",
              "  0.012771375477313995,\n",
              "  0.01236976869404316,\n",
              "  0.011759093962609768,\n",
              "  0.011290866881608963,\n",
              "  0.01077685784548521,\n",
              "  0.01037098653614521,\n",
              "  0.009971178136765957,\n",
              "  0.009419642388820648,\n",
              "  0.009142842143774033,\n",
              "  0.008702372200787067,\n",
              "  0.008361800573766232,\n",
              "  0.007976869121193886],\n",
              " 'val_accuracy': [0.9132000207901001,\n",
              "  0.9305999875068665,\n",
              "  0.9391999840736389,\n",
              "  0.9449999928474426,\n",
              "  0.9508000016212463,\n",
              "  0.954800009727478,\n",
              "  0.9585999846458435,\n",
              "  0.9617999792098999,\n",
              "  0.9652000069618225,\n",
              "  0.968999981880188,\n",
              "  0.97079998254776,\n",
              "  0.968999981880188,\n",
              "  0.973800003528595,\n",
              "  0.9714000225067139,\n",
              "  0.9747999906539917,\n",
              "  0.9757999777793884,\n",
              "  0.9757999777793884,\n",
              "  0.9768000245094299,\n",
              "  0.975600004196167,\n",
              "  0.975600004196167,\n",
              "  0.979200005531311,\n",
              "  0.9775999784469604,\n",
              "  0.975600004196167,\n",
              "  0.977400004863739,\n",
              "  0.977400004863739,\n",
              "  0.978600025177002,\n",
              "  0.9793999791145325,\n",
              "  0.9800000190734863,\n",
              "  0.978600025177002,\n",
              "  0.9797999858856201,\n",
              "  0.9793999791145325,\n",
              "  0.9797999858856201,\n",
              "  0.9807999730110168,\n",
              "  0.9796000123023987,\n",
              "  0.9801999926567078,\n",
              "  0.9787999987602234,\n",
              "  0.9818000197410583,\n",
              "  0.9815999865531921,\n",
              "  0.9800000190734863,\n",
              "  0.9800000190734863,\n",
              "  0.9810000061988831,\n",
              "  0.9811999797821045,\n",
              "  0.9796000123023987,\n",
              "  0.9815999865531921,\n",
              "  0.9807999730110168,\n",
              "  0.9797999858856201,\n",
              "  0.9815999865531921,\n",
              "  0.9797999858856201,\n",
              "  0.9815999865531921,\n",
              "  0.9807999730110168,\n",
              "  0.9807999730110168,\n",
              "  0.9814000129699707,\n",
              "  0.980400025844574,\n",
              "  0.9807999730110168,\n",
              "  0.9807999730110168,\n",
              "  0.979200005531311,\n",
              "  0.9818000197410583,\n",
              "  0.9801999926567078,\n",
              "  0.9814000129699707,\n",
              "  0.9807999730110168],\n",
              " 'val_loss': [0.3182523846626282,\n",
              "  0.2531560957431793,\n",
              "  0.21522285044193268,\n",
              "  0.1914994716644287,\n",
              "  0.1726103574037552,\n",
              "  0.15970578789710999,\n",
              "  0.14562103152275085,\n",
              "  0.1380171924829483,\n",
              "  0.12715162336826324,\n",
              "  0.11801374703645706,\n",
              "  0.11386922746896744,\n",
              "  0.10923952609300613,\n",
              "  0.10357989370822906,\n",
              "  0.10122642666101456,\n",
              "  0.0944623202085495,\n",
              "  0.09169106185436249,\n",
              "  0.0906187891960144,\n",
              "  0.08741829544305801,\n",
              "  0.08598504960536957,\n",
              "  0.08684482425451279,\n",
              "  0.07916528731584549,\n",
              "  0.08114828914403915,\n",
              "  0.08279445022344589,\n",
              "  0.07871556282043457,\n",
              "  0.07802461832761765,\n",
              "  0.07459712028503418,\n",
              "  0.0727720782160759,\n",
              "  0.0740552544593811,\n",
              "  0.07304520159959793,\n",
              "  0.07319322973489761,\n",
              "  0.07346276938915253,\n",
              "  0.07156623899936676,\n",
              "  0.06949404627084732,\n",
              "  0.07334165275096893,\n",
              "  0.07024170458316803,\n",
              "  0.07434811443090439,\n",
              "  0.06878539174795151,\n",
              "  0.07087457180023193,\n",
              "  0.07041729241609573,\n",
              "  0.07130372524261475,\n",
              "  0.06865189224481583,\n",
              "  0.07044667750597,\n",
              "  0.07238748669624329,\n",
              "  0.06903418898582458,\n",
              "  0.0706796795129776,\n",
              "  0.07073700428009033,\n",
              "  0.07026024162769318,\n",
              "  0.07220682501792908,\n",
              "  0.06974014639854431,\n",
              "  0.0718095600605011,\n",
              "  0.07050744444131851,\n",
              "  0.07082463055849075,\n",
              "  0.07061051577329636,\n",
              "  0.07169567048549652,\n",
              "  0.0712190791964531,\n",
              "  0.07396617531776428,\n",
              "  0.07138566672801971,\n",
              "  0.07462456077337265,\n",
              "  0.07197727262973785,\n",
              "  0.07358428835868835]}"
            ]
          },
          "metadata": {},
          "execution_count": 187
        }
      ]
    },
    {
      "cell_type": "code",
      "source": [
        "pd.DataFrame(model_history.history).plot(figsize=(8,5))\n",
        "plt.grid(True)\n",
        "plt.gca().set_ylim(0,1)\n",
        "plt.show()\n"
      ],
      "metadata": {
        "colab": {
          "base_uri": "https://localhost:8080/",
          "height": 323
        },
        "id": "MSVbtI4uf8Br",
        "outputId": "82a42d7f-aaa9-429f-eafe-0f882d7a17dc"
      },
      "execution_count": 188,
      "outputs": [
        {
          "output_type": "display_data",
          "data": {
            "image/png": "[encoded data removed]",
            "text/plain": [
              "<Figure size 576x360 with 1 Axes>"
            ]
          },
          "metadata": {
            "needs_background": "light"
          }
        }
      ]
    },
    {
      "cell_type": "code",
      "source": [
        "model.evaluate(x_test, y_test)\n"
      ],
      "metadata": {
        "colab": {
          "base_uri": "https://localhost:8080/"
        },
        "id": "vLQBGj8VgoCL",
        "outputId": "d7939b4f-08f4-4295-b04b-1f72330beca7"
      },
      "execution_count": 189,
      "outputs": [
        {
          "output_type": "stream",
          "name": "stdout",
          "text": [
            "313/313 [==============================] - 1s 2ms/step - loss: 0.0750 - accuracy: 0.9804\n"
          ]
        },
        {
          "output_type": "execute_result",
          "data": {
            "text/plain": [
              "[0.07496017217636108, 0.980400025844574]"
            ]
          },
          "metadata": {},
          "execution_count": 189
        }
      ]
    },
    {
      "cell_type": "code",
      "source": [
        "x_new=x_test[:5]"
      ],
      "metadata": {
        "id": "opPnB2Xpg0og"
      },
      "execution_count": 190,
      "outputs": []
    },
    {
      "cell_type": "code",
      "source": [
        "y_proba= model.predict(x_new)\n",
        "y_proba.round(4)"
      ],
      "metadata": {
        "colab": {
          "base_uri": "https://localhost:8080/"
        },
        "id": "_e-wpVrkg6fb",
        "outputId": "687bc4b3-f251-42e3-a3ce-58987aed6359"
      },
      "execution_count": 194,
      "outputs": [
        {
          "output_type": "execute_result",
          "data": {
            "text/plain": [
              "array([[0.000e+00, 0.000e+00, 0.000e+00, 1.000e-04, 0.000e+00, 0.000e+00,\n",
              "        0.000e+00, 9.999e-01, 0.000e+00, 0.000e+00],\n",
              "       [0.000e+00, 0.000e+00, 1.000e+00, 0.000e+00, 0.000e+00, 0.000e+00,\n",
              "        0.000e+00, 0.000e+00, 0.000e+00, 0.000e+00],\n",
              "       [0.000e+00, 9.996e-01, 0.000e+00, 0.000e+00, 2.000e-04, 0.000e+00,\n",
              "        0.000e+00, 1.000e-04, 1.000e-04, 0.000e+00],\n",
              "       [1.000e+00, 0.000e+00, 0.000e+00, 0.000e+00, 0.000e+00, 0.000e+00,\n",
              "        0.000e+00, 0.000e+00, 0.000e+00, 0.000e+00],\n",
              "       [0.000e+00, 0.000e+00, 0.000e+00, 0.000e+00, 9.982e-01, 0.000e+00,\n",
              "        0.000e+00, 0.000e+00, 0.000e+00, 1.800e-03]], dtype=float32)"
            ]
          },
          "metadata": {},
          "execution_count": 194
        }
      ]
    }
  ]
}